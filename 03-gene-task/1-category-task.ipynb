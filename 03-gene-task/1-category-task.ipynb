{
 "cells": [
  {
   "cell_type": "markdown",
   "id": "5840e900-43cb-4ab4-81a5-988b68fda9b1",
   "metadata": {},
   "source": [
    "# 3.1 序列分类任务"
   ]
  },
  {
   "cell_type": "markdown",
   "id": "958e7b5f-759a-431c-8af0-325271facb41",
   "metadata": {},
   "source": [
    "基于 GPT-2 模型，可以通过微调（fine-tuning）或使用提示（prompt-based）方法来完成多种下游任务。\n",
    "本章主要使用经典的微调方式，提示微调则属于chatgpt的范围，放在下一章，以下是几种常见的下游任务及其简单描述：\n",
    "\n",
    "\n",
    "### 1. **文本分类**\n",
    "\n",
    "#### 任务描述\n",
    "\n",
    "文本分类是将文本分配到一个或多个预定义类别中的任务。例如，情感分析、主题分类等。生物序列中对应如启动序列等分类问题。\n",
    "\n",
    "#### 使用的模型类型\n",
    "\n",
    "- **GPT2ForSequenceClassification或AutoModelForSequenceClassification**：该模型在 GPT-2 的基础上添加了一个分类头，用于处理文本分类任务。通过微调这个模型，可以将其应用于多种分类任务。\n",
    "\n",
    "### 2. **机器翻译**\n",
    "\n",
    "#### 任务描述\n",
    "\n",
    "机器翻译是指将一种语言的文本转换为另一种语言的过程。生物学中，可以是生物序列到功能描述(英文)的翻译。\n",
    "\n",
    "#### 使用的模型类型\n",
    "\n",
    "- **AutoModelForSeq2SeqLM**：虽然 GPT-2 不是专门为机器翻译设计的模型，但可以通过构造特定格式的提示，让 GPT-2 根据上下文生成目标语言的翻译结果。\n",
    "- **注意**：对于机器翻译任务，通常更推荐使用专门为此类任务设计的模型，如 T5 或 mBART。\n",
    "\n",
    "### 3. **词性标注 (POS Tagging)**\n",
    "\n",
    "#### 任务描述\n",
    "\n",
    "词性标注是指为每个单词分配其正确的词性标签（如名词、动词、形容词等）。生物学中，对应于结构预测任务，典型的如二级结构预测。\n",
    "\n",
    "#### 使用的模型类型\n",
    "\n",
    "- **AutoModelForTokenClassification**：该模型适用于标记级别的分类任务。通过微调，可以将 GPT-2 应用于词性标注，每个 token 的隐藏状态会被映射到相应的词性标签。\n",
    "\n",
    "### 4. **命名实体识别 (NER)**\n",
    "\n",
    "#### 任务描述\n",
    "\n",
    "命名实体识别是指识别文本中的人名、地名、组织机构等实体，并对其进行分类。生物学中，也对应于结构预测任务，典型的如膜结构预测。和词性标注类似。\n",
    "\n",
    "#### 使用的模型类型\n",
    "\n",
    "- **AutoModelForTokenClassification**：类似于词性标注，该模型可以用于 NER 任务，通过对每个 token 进行分类来识别和标注命名实体。\n",
    "\n",
    "### 5. **问答系统**\n",
    "\n",
    "#### 任务描述\n",
    "\n",
    "问答系统旨在根据给定的问题从文档或知识库中提取答案。目前一些最新的生物学大模型论文中，输入是包含生物序列的问题，回答则也是混合式的。一般是生物学领域的QA。\n",
    "\n",
    "#### 使用的模型类型\n",
    "\n",
    "- **AutoModelForQuestionAnswering**：该模型专门用于问答任务，能够理解问题并从上下文中提取答案。通过微调，它可以适应特定领域的问答需求。\n",
    "\n",
    "### 6. **文本生成**\n",
    "\n",
    "#### 任务描述\n",
    "\n",
    "文本生成是指根据给定的提示或前缀生成连贯的文本内容。生物学中，对应新的序列生成，如产生全新的蛋白质序列。\n",
    "\n",
    "#### 使用的模型类型\n",
    "\n",
    "- **GPT2LMHeadModel**：这是 GPT-2 的标准语言模型版本，擅长生成自然流畅的文本。它可以根据输入的提示生成后续文本，广泛应用于创作、对话系统等领域。\n",
    "\n",
    "### 6. **回归问题**\n",
    "\n",
    "#### 任务描述\n",
    "\n",
    "生物序列相关的回归问题，输入为序列，输出为一个float值。\n",
    "\n",
    "#### 使用的模型类型\n",
    "\n",
    "- huggingface没有特定的header，但一般回归问题，输出使用一个线性层即可，设定损失函数为均方误差（MSE）即可。最简单的，就是使用AutoModelForTokenClassification，类别数设置为1，输出的label为实测float值即可。\n",
    "一个官方推荐的 [例子](https://github.com/huggingface/transformers/blob/7ae6f070044b0171a71f3269613bf02fd9fca6f2/src/transformers/models/bert/modeling_bert.py#L1564-L1575)\n",
    "\n",
    "### 小结\n",
    "\n",
    "GPT-2 可以通过微调或提示工程应用于多种下游任务。不同的任务需要使用特定类型的模型，这些模型基于 GPT-2 并添加了额外的组件或进行了调整，以更好地适应特定的任务需求\n",
    "\n",
    "<img src=\"img/gpt2-ft.png\" width=\"800px\" />"
   ]
  },
  {
   "cell_type": "code",
   "execution_count": 1,
   "id": "eca17933-7b8f-44de-8c59-ea7a1c8a3b33",
   "metadata": {},
   "outputs": [
    {
     "data": {
      "text/plain": [
       "\"\\nimport os\\n\\n# 设置环境变量, autodl专区 其他idc\\nos.environ['HF_ENDPOINT'] = 'https://hf-mirror.com'\\n\\n# 打印环境变量以确认设置成功\\nprint(os.environ.get('HF_ENDPOINT'))\\n\""
      ]
     },
     "execution_count": 1,
     "metadata": {},
     "output_type": "execute_result"
    }
   ],
   "source": [
    "import subprocess\n",
    "import os\n",
    "# 设置环境变量, autodl一般区域\n",
    "result = subprocess.run('bash -c \"source /etc/network_turbo && env | grep proxy\"', shell=True, capture_output=True, text=True)\n",
    "output = result.stdout\n",
    "for line in output.splitlines():\n",
    "    if '=' in line:\n",
    "        var, value = line.split('=', 1)\n",
    "        os.environ[var] = value\n",
    "\n",
    "\"\"\"\n",
    "import os\n",
    "\n",
    "# 设置环境变量, autodl专区 其他idc\n",
    "os.environ['HF_ENDPOINT'] = 'https://hf-mirror.com'\n",
    "\n",
    "# 打印环境变量以确认设置成功\n",
    "print(os.environ.get('HF_ENDPOINT'))\n",
    "\"\"\""
   ]
  },
  {
   "cell_type": "code",
   "execution_count": 2,
   "id": "108d9c3c-ae4d-4110-a532-a40a6fe1f9df",
   "metadata": {},
   "outputs": [],
   "source": [
    "from transformers import AutoTokenizer, AutoModel\n",
    "from tokenizers import Tokenizer\n",
    "from transformers import GPT2LMHeadModel, AutoConfig,GPT2Tokenizer\n",
    "from transformers import AutoModelForSequenceClassification\n",
    "from transformers import DataCollatorWithPadding"
   ]
  },
  {
   "cell_type": "code",
   "execution_count": 6,
   "id": "bcdc9f7a-1ea5-4647-b87e-ac72ddf17818",
   "metadata": {},
   "outputs": [
    {
     "data": {
      "application/vnd.jupyter.widget-view+json": {
       "model_id": "c2e31c61549449e78a4e1fe0e884233f",
       "version_major": 2,
       "version_minor": 0
      },
      "text/plain": [
       "tokenizer_config.json:   0%|          | 0.00/580 [00:00<?, ?B/s]"
      ]
     },
     "metadata": {},
     "output_type": "display_data"
    },
    {
     "data": {
      "application/vnd.jupyter.widget-view+json": {
       "model_id": "da2009ca96634f759f052a9a4ff7e41e",
       "version_major": 2,
       "version_minor": 0
      },
      "text/plain": [
       "vocab.json:   0%|          | 0.00/642k [00:00<?, ?B/s]"
      ]
     },
     "metadata": {},
     "output_type": "display_data"
    },
    {
     "data": {
      "application/vnd.jupyter.widget-view+json": {
       "model_id": "b6b6ec58d8cb4878aa2e0786ff0bbcf4",
       "version_major": 2,
       "version_minor": 0
      },
      "text/plain": [
       "merges.txt:   0%|          | 0.00/323k [00:00<?, ?B/s]"
      ]
     },
     "metadata": {},
     "output_type": "display_data"
    },
    {
     "data": {
      "application/vnd.jupyter.widget-view+json": {
       "model_id": "5dbb5171eb6242bdbded42c87ef46c27",
       "version_major": 2,
       "version_minor": 0
      },
      "text/plain": [
       "special_tokens_map.json:   0%|          | 0.00/473 [00:00<?, ?B/s]"
      ]
     },
     "metadata": {},
     "output_type": "display_data"
    }
   ],
   "source": [
    "#set tokenizer\n",
    "tokenizer = GPT2Tokenizer.from_pretrained(\"dnagpt/dna_gpt2_v0\")\n",
    "tokenizer.pad_token = tokenizer.eos_token"
   ]
  },
  {
   "cell_type": "code",
   "execution_count": 3,
   "id": "0e930ef5-865a-4528-84b5-ddae6d710a99",
   "metadata": {},
   "outputs": [
    {
     "name": "stderr",
     "output_type": "stream",
     "text": [
      "Some weights of GPT2ForSequenceClassification were not initialized from the model checkpoint at dnagpt/dna_gpt2_v0 and are newly initialized: ['score.weight']\n",
      "You should probably TRAIN this model on a down-stream task to be able to use it for predictions and inference.\n"
     ]
    },
    {
     "data": {
      "text/plain": [
       "GPT2ForSequenceClassification(\n",
       "  (transformer): GPT2Model(\n",
       "    (wte): Embedding(30000, 768)\n",
       "    (wpe): Embedding(1024, 768)\n",
       "    (drop): Dropout(p=0.1, inplace=False)\n",
       "    (h): ModuleList(\n",
       "      (0-11): 12 x GPT2Block(\n",
       "        (ln_1): LayerNorm((768,), eps=1e-05, elementwise_affine=True)\n",
       "        (attn): GPT2SdpaAttention(\n",
       "          (c_attn): Conv1D(nf=2304, nx=768)\n",
       "          (c_proj): Conv1D(nf=768, nx=768)\n",
       "          (attn_dropout): Dropout(p=0.1, inplace=False)\n",
       "          (resid_dropout): Dropout(p=0.1, inplace=False)\n",
       "        )\n",
       "        (ln_2): LayerNorm((768,), eps=1e-05, elementwise_affine=True)\n",
       "        (mlp): GPT2MLP(\n",
       "          (c_fc): Conv1D(nf=3072, nx=768)\n",
       "          (c_proj): Conv1D(nf=768, nx=3072)\n",
       "          (act): NewGELUActivation()\n",
       "          (dropout): Dropout(p=0.1, inplace=False)\n",
       "        )\n",
       "      )\n",
       "    )\n",
       "    (ln_f): LayerNorm((768,), eps=1e-05, elementwise_affine=True)\n",
       "  )\n",
       "  (score): Linear(in_features=768, out_features=2, bias=False)\n",
       ")"
      ]
     },
     "execution_count": 3,
     "metadata": {},
     "output_type": "execute_result"
    }
   ],
   "source": [
    "#set model\n",
    "model = AutoModelForSequenceClassification.from_pretrained('dnagpt/dna_gpt2_v0', num_labels=2)\n",
    "model.config.pad_token_id = model.config.eos_token_id\n",
    "model"
   ]
  },
  {
   "cell_type": "markdown",
   "id": "bd14794b-e507-4c1d-be47-0e0144835f18",
   "metadata": {},
   "source": [
    "在生物学中，**启动子（promoter）** 是一段特定的DNA序列，它位于基因的上游（通常是5'端），并且是转录起始的关键调控元件。启动子的主要功能是为RNA聚合酶提供结合位点，并招募其他转录因子，以启动基因转录过程。以下是关于启动子的一些重要概念和特点：\n",
    "\n",
    "### 启动子的功能\n",
    "\n",
    "1. **转录起始**：\n",
    "   - 启动子是基因表达的第一步，它决定了何时、何地以及多频繁地进行转录。\n",
    "   \n",
    "2. **调控基因表达**：\n",
    "   - 不同类型的启动子可以调节不同组织或细胞类型中的基因表达水平。例如，在某些细胞中高度活跃而在其他细胞中不活跃。\n",
    "\n",
    "3. **与转录因子和其他蛋白质相互作用**：\n",
    "   - 启动子区域通常包含多个顺式作用元件（cis-regulatory elements），这些元件可以与特定的转录因子或其他调控蛋白结合，进一步精细调整基因表达。\n",
    "  \n",
    "  \n",
    "在生物学中，启动子（promoter）序列的二分类问题通常是指将DNA序列分为两类：**启动子序列**和**非启动子序列**。这种分类任务的目标是通过机器学习或生物信息学方法来预测给定的DNA序列是否具有启动子功能。\n",
    "\n",
    "### 二分类问题中的两个类别\n",
    "\n",
    "1. **启动子序列（Promoter Sequences）**：\n",
    "   - 这些序列包含能够指导转录起始的调控元件，通常是位于基因5'端上游区域的一段DNA。\n",
    "   - 启动子序列可能含有特定的保守基序（motifs），如TATA盒、CAAT盒等，这些基序对于RNA聚合酶及其辅助因子的结合至关重要。\n",
    "\n",
    "2. **非启动子序列（Non-Promoter Sequences）**：\n",
    "   - 这类序列指的是那些不具有启动子功能的DNA片段。它们可以来自基因内部（编码区或内含子）、基因间区域（intergenic regions）或其他调控元件（如增强子、沉默子等），但明确不是启动子。\n",
    "   - 非启动子序列不具备启动转录的能力，或者至少在自然条件下不会作为主要的转录起始点。\n",
    "\n",
    "### 启动子的研究意义\n",
    "\n",
    "理解启动子的工作机制对于揭示基因表达调控网络非常重要。这不仅有助于基础科学研究，而且对于医学应用也有着深远的影响，比如开发新的治疗策略来纠正异常的基因表达模式，或者利用合成生物学设计定制化的基因表达系统。\n"
   ]
  },
  {
   "cell_type": "code",
   "execution_count": 8,
   "id": "aee08f3f-6cda-4975-8cb9-9a7bfacb9eac",
   "metadata": {},
   "outputs": [
    {
     "data": {
      "application/vnd.jupyter.widget-view+json": {
       "model_id": "82d2ec71cf6648469040897d9174a55f",
       "version_major": 2,
       "version_minor": 0
      },
      "text/plain": [
       "README.md:   0%|          | 0.00/314 [00:00<?, ?B/s]"
      ]
     },
     "metadata": {},
     "output_type": "display_data"
    },
    {
     "data": {
      "application/vnd.jupyter.widget-view+json": {
       "model_id": "40183e0714ea4155a2c0772fb7c72a00",
       "version_major": 2,
       "version_minor": 0
      },
      "text/plain": [
       "train-00000-of-00001.parquet:   0%|          | 0.00/8.66M [00:00<?, ?B/s]"
      ]
     },
     "metadata": {},
     "output_type": "display_data"
    },
    {
     "data": {
      "application/vnd.jupyter.widget-view+json": {
       "model_id": "8e5ebe15df194e3c8bf5811777755947",
       "version_major": 2,
       "version_minor": 0
      },
      "text/plain": [
       "Generating train split:   0%|          | 0/59195 [00:00<?, ? examples/s]"
      ]
     },
     "metadata": {},
     "output_type": "display_data"
    }
   ],
   "source": [
    "from datasets import load_dataset\n",
    "# 1. load ~11k samples from promoters prediction dataset\n",
    "dataset = load_dataset(\"dnagpt/dna_promoter_300\")['train'].train_test_split(test_size=0.1)"
   ]
  },
  {
   "cell_type": "code",
   "execution_count": 9,
   "id": "6ac9fe5b-2175-42d8-949c-cb12bc8fb65c",
   "metadata": {},
   "outputs": [
    {
     "data": {
      "text/plain": [
       "DatasetDict({\n",
       "    train: Dataset({\n",
       "        features: ['sequence', 'label'],\n",
       "        num_rows: 53275\n",
       "    })\n",
       "    test: Dataset({\n",
       "        features: ['sequence', 'label'],\n",
       "        num_rows: 5920\n",
       "    })\n",
       "})"
      ]
     },
     "execution_count": 9,
     "metadata": {},
     "output_type": "execute_result"
    }
   ],
   "source": [
    "dataset"
   ]
  },
  {
   "cell_type": "code",
   "execution_count": 10,
   "id": "b5025f95-ca5d-42b1-95e1-55495f77d009",
   "metadata": {},
   "outputs": [
    {
     "data": {
      "text/plain": [
       "{'sequence': 'CCTGACGCCCACCGCAAGCTGCCGGGTAAGACCGGGTCGACTTCAGCGCGGCCCGCTGCACGAGAGACCATTATGGTGATCCGCCCGCCTGACACTACTGATATGTTGGGATTACAGGCGTGAGCCACGGCGCCCGGCGGGCAAGACACCCTCAGAGCACAGGGTGAATCCATGGTTAAAATACAGCGGGAAGTTAGCGCCGAAGTCGCCGTGTAATTTGTGCGCGGTTCAGGTTCATGTATTCAGAATCATTTTACTAGGTTTAGGGCTCGCCGCTGCCTCAGTGGCTTTCAGGCGCTT',\n",
       " 'label': 0}"
      ]
     },
     "execution_count": 10,
     "metadata": {},
     "output_type": "execute_result"
    }
   ],
   "source": [
    "dataset[\"train\"][0]"
   ]
  },
  {
   "cell_type": "code",
   "execution_count": 13,
   "id": "ac999213-67b1-4294-8d92-80b8c6c68acd",
   "metadata": {},
   "outputs": [
    {
     "name": "stdout",
     "output_type": "stream",
     "text": [
      "dna datasets  mean token lenght 52.41266891891892 min token length 33 max token length 60\n"
     ]
    }
   ],
   "source": [
    "token_len_list = []\n",
    "for item in dataset[\"test\"]:\n",
    "    inputs = tokenizer.tokenize(item[\"sequence\"])\n",
    "    token_len_list.append( len(inputs) )\n",
    "\n",
    "mean_len = sum(token_len_list)/len(token_len_list)\n",
    "min_len  = min(token_len_list)\n",
    "max_len = max(token_len_list)\n",
    "\n",
    "print(\"dna datasets \", \"mean token lenght\", mean_len, \"min token length\", min_len, \"max token length\", max_len)"
   ]
  },
  {
   "cell_type": "code",
   "execution_count": 14,
   "id": "72a2dec3-043b-41e4-afd8-4dbd8c8fcbb0",
   "metadata": {},
   "outputs": [
    {
     "data": {
      "image/png": "[encoded data removed]",
      "text/plain": [
       "<Figure size 1000x600 with 1 Axes>"
      ]
     },
     "metadata": {},
     "output_type": "display_data"
    }
   ],
   "source": [
    "#统计图\n",
    "import matplotlib.pyplot as plt\n",
    "import seaborn as sns\n",
    "import numpy as np\n",
    "\n",
    "# 假设这是您的 token_len_list\n",
    "\n",
    "# 设置画布大小\n",
    "plt.figure(figsize=(10, 6))\n",
    "\n",
    "# 使用 seaborn 生成直方图\n",
    "sns.histplot(token_len_list, bins=30, kde=False, color=\"skyblue\", edgecolor=\"black\")\n",
    "\n",
    "# 添加标题和标签\n",
    "plt.title(\"Distribution of Token Lengths\")\n",
    "plt.xlabel(\"Token Length\")\n",
    "plt.ylabel(\"Frequency\")\n",
    "\n",
    "# 显示平均值线\n",
    "mean_value = np.mean(token_len_list)\n",
    "plt.axvline(mean_value, color='red', linestyle='dashed', linewidth=2)\n",
    "plt.text(mean_value + 2, plt.ylim()[1]*0.9, f'Mean: {mean_value:.2f}', color='red')\n",
    "\n",
    "# 显示中位数线\n",
    "median_value = np.median(token_len_list)\n",
    "plt.axvline(median_value, color='green', linestyle='dashed', linewidth=2)\n",
    "plt.text(median_value - 10, plt.ylim()[1]*0.8, f'Median: {median_value:.2f}', color='green')\n",
    "\n",
    "# 显示图形\n",
    "plt.show()"
   ]
  },
  {
   "cell_type": "code",
   "execution_count": 15,
   "id": "9a65c8bc-6bf0-4605-8c38-409bbb14f2c7",
   "metadata": {},
   "outputs": [
    {
     "data": {
      "application/vnd.jupyter.widget-view+json": {
       "model_id": "a4e97d92506f419581c3711f26d7f683",
       "version_major": 2,
       "version_minor": 0
      },
      "text/plain": [
       "Map:   0%|          | 0/53275 [00:00<?, ? examples/s]"
      ]
     },
     "metadata": {},
     "output_type": "display_data"
    },
    {
     "data": {
      "application/vnd.jupyter.widget-view+json": {
       "model_id": "9004c03cb9b24411b6bd9d33662402fb",
       "version_major": 2,
       "version_minor": 0
      },
      "text/plain": [
       "Map:   0%|          | 0/5920 [00:00<?, ? examples/s]"
      ]
     },
     "metadata": {},
     "output_type": "display_data"
    }
   ],
   "source": [
    "# 2. tokenize\n",
    "def tokenize_function(examples):\n",
    "    examples['label'] = [int(item) for item in examples['label']]\n",
    "    return tokenizer(examples['sequence'], truncation=True, padding='max_length', max_length=128)\n",
    "\n",
    "# 3. 对数据集应用分词函数\n",
    "tokenized_datasets = dataset.map(tokenize_function, batched=True)\n",
    "\n",
    "# 4. 创建一个数据收集器，用于动态填充和遮蔽\n",
    "data_collator = DataCollatorWithPadding(tokenizer=tokenizer)"
   ]
  },
  {
   "cell_type": "code",
   "execution_count": 22,
   "id": "4b0faa94-d0c4-4ce8-9976-dcefcb766f0b",
   "metadata": {},
   "outputs": [
    {
     "name": "stderr",
     "output_type": "stream",
     "text": [
      "/root/miniconda3/lib/python3.12/site-packages/transformers/training_args.py:1575: FutureWarning: `evaluation_strategy` is deprecated and will be removed in version 4.46 of 🤗 Transformers. Use `eval_strategy` instead\n",
      "  warnings.warn(\n",
      "/tmp/ipykernel_2549/341301010.py:29: FutureWarning: `tokenizer` is deprecated and will be removed in version 5.0.0 for `Trainer.__init__`. Use `processing_class` instead.\n",
      "  trainer = Trainer(\n"
     ]
    }
   ],
   "source": [
    "from transformers import TrainingArguments, Trainer\n",
    "import numpy as np\n",
    "import torch.nn as nn\n",
    "\n",
    "\n",
    "\n",
    "def compute_metrics(eval_pred):\n",
    "    predictions, labels = eval_pred\n",
    "    predictions = np.argmax(predictions, axis=1)\n",
    "    return {'accuracy': (predictions==labels).sum() / len(labels)}\n",
    "\n",
    "# change training hyperparameters to archive better quality\n",
    "training_args = TrainingArguments(\n",
    "    output_dir=\"ds_job_category_v0\",\n",
    "    learning_rate=1e-5,\n",
    "    lr_scheduler_type=\"constant_with_warmup\",\n",
    "    warmup_ratio=0.1,\n",
    "    optim='adamw_torch',\n",
    "    weight_decay=0.0,\n",
    "    per_device_train_batch_size=20,\n",
    "    per_device_eval_batch_size=20,\n",
    "    num_train_epochs=10,\n",
    "    evaluation_strategy=\"epoch\",\n",
    "    save_strategy=\"epoch\",\n",
    "    logging_strategy=\"epoch\",\n",
    "    load_best_model_at_end=True\n",
    ")\n",
    "\n",
    "trainer = Trainer(\n",
    "    model=model,\n",
    "    args=training_args,\n",
    "    train_dataset=tokenized_datasets[\"train\"],\n",
    "    eval_dataset=tokenized_datasets[\"test\"],\n",
    "    tokenizer=tokenizer,\n",
    "    data_collator=data_collator,\n",
    "    compute_metrics=compute_metrics,\n",
    ")"
   ]
  },
  {
   "cell_type": "code",
   "execution_count": 17,
   "id": "9b067740-9c0f-4df8-a5af-b68ec9d1f3e0",
   "metadata": {},
   "outputs": [
    {
     "data": {
      "text/html": [
       "\n",
       "    <div>\n",
       "      \n",
       "      <progress value='26640' max='26640' style='width:300px; height:20px; vertical-align: middle;'></progress>\n",
       "      [26640/26640 1:00:13, Epoch 10/10]\n",
       "    </div>\n",
       "    <table border=\"1\" class=\"dataframe\">\n",
       "  <thead>\n",
       " <tr style=\"text-align: left;\">\n",
       "      <th>Epoch</th>\n",
       "      <th>Training Loss</th>\n",
       "      <th>Validation Loss</th>\n",
       "      <th>Accuracy</th>\n",
       "    </tr>\n",
       "  </thead>\n",
       "  <tbody>\n",
       "    <tr>\n",
       "      <td>1</td>\n",
       "      <td>0.324900</td>\n",
       "      <td>0.237557</td>\n",
       "      <td>0.916216</td>\n",
       "    </tr>\n",
       "    <tr>\n",
       "      <td>2</td>\n",
       "      <td>0.193100</td>\n",
       "      <td>0.212998</td>\n",
       "      <td>0.925338</td>\n",
       "    </tr>\n",
       "    <tr>\n",
       "      <td>3</td>\n",
       "      <td>0.126900</td>\n",
       "      <td>0.278650</td>\n",
       "      <td>0.923480</td>\n",
       "    </tr>\n",
       "    <tr>\n",
       "      <td>4</td>\n",
       "      <td>0.076900</td>\n",
       "      <td>0.362979</td>\n",
       "      <td>0.922804</td>\n",
       "    </tr>\n",
       "    <tr>\n",
       "      <td>5</td>\n",
       "      <td>0.047400</td>\n",
       "      <td>0.518552</td>\n",
       "      <td>0.915372</td>\n",
       "    </tr>\n",
       "    <tr>\n",
       "      <td>6</td>\n",
       "      <td>0.032000</td>\n",
       "      <td>0.698843</td>\n",
       "      <td>0.918412</td>\n",
       "    </tr>\n",
       "    <tr>\n",
       "      <td>7</td>\n",
       "      <td>0.029000</td>\n",
       "      <td>0.760331</td>\n",
       "      <td>0.915709</td>\n",
       "    </tr>\n",
       "    <tr>\n",
       "      <td>8</td>\n",
       "      <td>0.025900</td>\n",
       "      <td>0.769762</td>\n",
       "      <td>0.921959</td>\n",
       "    </tr>\n",
       "    <tr>\n",
       "      <td>9</td>\n",
       "      <td>0.021800</td>\n",
       "      <td>0.740165</td>\n",
       "      <td>0.923142</td>\n",
       "    </tr>\n",
       "    <tr>\n",
       "      <td>10</td>\n",
       "      <td>0.021300</td>\n",
       "      <td>0.738664</td>\n",
       "      <td>0.922973</td>\n",
       "    </tr>\n",
       "  </tbody>\n",
       "</table><p>"
      ],
      "text/plain": [
       "<IPython.core.display.HTML object>"
      ]
     },
     "metadata": {},
     "output_type": "display_data"
    },
    {
     "data": {
      "text/plain": [
       "TrainOutput(global_step=26640, training_loss=0.08990609108864724, metrics={'train_runtime': 3619.5996, 'train_samples_per_second': 147.185, 'train_steps_per_second': 7.36, 'total_flos': 3.4801460969472e+16, 'train_loss': 0.08990609108864724, 'epoch': 10.0})"
      ]
     },
     "execution_count": 17,
     "metadata": {},
     "output_type": "execute_result"
    }
   ],
   "source": [
    "trainer.train()"
   ]
  },
  {
   "cell_type": "code",
   "execution_count": 20,
   "id": "aa26e020-2dfd-4e0e-b330-250ee3e44a44",
   "metadata": {},
   "outputs": [
    {
     "data": {
      "text/html": [],
      "text/plain": [
       "<IPython.core.display.HTML object>"
      ]
     },
     "metadata": {},
     "output_type": "display_data"
    },
    {
     "data": {
      "text/plain": [
       "{'accuracy': 0.9253378378378379, 'f1': 0.927062706270627}"
      ]
     },
     "execution_count": 20,
     "metadata": {},
     "output_type": "execute_result"
    }
   ],
   "source": [
    "#模型测试\n",
    "import evaluate\n",
    "predictions = trainer.predict(tokenized_datasets[\"test\"])\n",
    "preds = np.argmax(predictions.predictions, axis=-1)\n",
    "metric = evaluate.load(\"glue\", \"mrpc\")\n",
    "ret = metric.compute(predictions=preds, references=predictions.label_ids)\n",
    "ret"
   ]
  },
  {
   "cell_type": "code",
   "execution_count": 21,
   "id": "5e6d99ad-66a0-4b85-9380-ae2b7ee88056",
   "metadata": {},
   "outputs": [
    {
     "data": {
      "image/png": "[encoded data removed]",
      "text/plain": [
       "<Figure size 640x480 with 2 Axes>"
      ]
     },
     "metadata": {},
     "output_type": "display_data"
    }
   ],
   "source": [
    "from sklearn.metrics import confusion_matrix, ConfusionMatrixDisplay\n",
    "import matplotlib.pyplot as plt\n",
    "\n",
    "# 假设 predictions.label_ids 是真实的标签，preds 是模型的预测\n",
    "cm = confusion_matrix(predictions.label_ids, preds)\n",
    "\n",
    "# 可视化混淆矩阵\n",
    "disp = ConfusionMatrixDisplay(confusion_matrix=cm, display_labels=['Class 0', 'Class 1'])\n",
    "disp.plot(cmap=plt.cm.Blues)\n",
    "plt.title('Confusion Matrix')\n",
    "plt.show()"
   ]
  },
  {
   "cell_type": "code",
   "execution_count": null,
   "id": "23e3a640-88d7-4a1e-8515-7c417d50f018",
   "metadata": {},
   "outputs": [],
   "source": []
  }
 ],
 "metadata": {
  "kernelspec": {
   "display_name": "Python 3 (ipykernel)",
   "language": "python",
   "name": "python3"
  },
  "language_info": {
   "codemirror_mode": {
    "name": "ipython",
    "version": 3
   },
   "file_extension": ".py",
   "mimetype": "text/x-python",
   "name": "python",
   "nbconvert_exporter": "python",
   "pygments_lexer": "ipython3",
   "version": "3.12.3"
  }
 },
 "nbformat": 4,
 "nbformat_minor": 5
}
